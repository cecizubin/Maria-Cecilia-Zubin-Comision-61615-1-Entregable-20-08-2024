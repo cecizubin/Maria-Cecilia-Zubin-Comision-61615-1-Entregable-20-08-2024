{
  "nbformat": 4,
  "nbformat_minor": 0,
  "metadata": {
    "colab": {
      "provenance": []
    },
    "kernelspec": {
      "name": "python3",
      "display_name": "Python 3"
    },
    "language_info": {
      "name": "python"
    }
  },
  "cells": [
    {
      "cell_type": "markdown",
      "source": [
        "# Preentrega - Proyecto Data Science\n"
      ],
      "metadata": {
        "id": "rWqj0Xt-_AuB"
      }
    },
    {
      "cell_type": "markdown",
      "source": [
        "# Educacion superior vinculada a calidad de acceso al mercado laboral"
      ],
      "metadata": {
        "id": "kPgzgOvCjzgX"
      }
    },
    {
      "cell_type": "markdown",
      "source": [
        "Profesor: Jorge Ruiz\n"
      ],
      "metadata": {
        "id": "ykmNaPiZkPjA"
      }
    },
    {
      "cell_type": "markdown",
      "source": [
        "Tutor: Lucila Adanchú"
      ],
      "metadata": {
        "id": "LSaM6n7kkXjy"
      }
    },
    {
      "cell_type": "markdown",
      "source": [
        "Alumno: Maria Cecilia Zubin\n"
      ],
      "metadata": {
        "id": "7c88gyH1kZmj"
      }
    },
    {
      "cell_type": "markdown",
      "source": [
        "Comision: 61615"
      ],
      "metadata": {
        "id": "PB6GPbtZkjmA"
      }
    },
    {
      "cell_type": "markdown",
      "source": [
        "# Acceso a los datos\n"
      ],
      "metadata": {
        "id": "bEafMEWg_Hs_"
      }
    },
    {
      "cell_type": "markdown",
      "source": [],
      "metadata": {
        "id": "2EbgWNPnkW3x"
      }
    },
    {
      "cell_type": "code",
      "source": [
        "import pandas as pd\n",
        "import numpy as np\n",
        "import seaborn as sns\n",
        "import matplotlib.pyplot as plt\n",
        "import os\n",
        "df = pd.read_csv('/dataset/dataset original.csv', encoding='latin-1', delimiter=';')"
      ],
      "metadata": {
        "id": "QrCcdAxbk6cX"
      },
      "execution_count": 143,
      "outputs": []
    },
    {
      "cell_type": "markdown",
      "source": [
        "# Informacion del Dataset"
      ],
      "metadata": {
        "id": "l4AIxWJNlghb"
      }
    },
    {
      "cell_type": "code",
      "source": [
        "df.head()"
      ],
      "metadata": {
        "colab": {
          "base_uri": "https://localhost:8080/",
          "height": 504
        },
        "id": "tjkhUV6Xk6KN",
        "outputId": "7c9dbd52-6154-47a0-d638-d9a2faa34d72"
      },
      "execution_count": 144,
      "outputs": [
        {
          "output_type": "execute_result",
          "data": {
            "text/plain": [
              "   Legajo Estado          Estructura  Convenio  \\\n",
              "0     231   ACTI   Fuera de convenio  FCON       \n",
              "1     236   ACTI  Dentro de convenio  CC-781     \n",
              "2    1420   ACTI   Fuera de convenio  FCON       \n",
              "3    1444   ACTI  Dentro de convenio  ATCC       \n",
              "4    1470   ACTI  Dentro de convenio  ATCC       \n",
              "\n",
              "                        Categoria ID_Cat     Ingreso Sexo  \\\n",
              "0               Fuera de Convenio   FCC   08/09/2015    M   \n",
              "1  27 Hs. CATEGORIA OP. A CCT 781   OP27  14/09/2015    F   \n",
              "2               Fuera de Convenio   FCC   02/02/2009    F   \n",
              "3  36,0 Hs. CATEGORIA 3 CCT688/14   H01   02/02/2009    F   \n",
              "4  30,0 Hs. CATEGORIA 3 CCT688/14   H13   23/02/2009    F   \n",
              "\n",
              "                  provincia                     puesto  piramide Titulo   \\\n",
              "0  FORM                      Analista de Mantenimiento         6      NO   \n",
              "1  FORM                                      Operador          8      NO   \n",
              "2  CBA                         Team Leader Operaciones         7      NO   \n",
              "3  CBA                                       Operador          8      NO   \n",
              "4  CBA                                       Operador          8      NO   \n",
              "\n",
              "  ID_PuestoBasico  ID_Banco                     Banco Pago de Rem   Enero  \\\n",
              "0        AMT              7  BANCO DE GALICIA Y BUENOS AIRES S.A.  487369   \n",
              "1        CDT             44                BANCO HIPOTECARIO S.A.  226936   \n",
              "2        TLC              7  BANCO DE GALICIA Y BUENOS AIRES S.A.  481271   \n",
              "3        CDT             72              BANCO SANTANDER RIO S.A.  314974   \n",
              "4        CDT             72              BANCO SANTANDER RIO S.A.  262479   \n",
              "\n",
              "   Febrero   Marzo  \n",
              "0   633580  760296  \n",
              "1   251899  251899  \n",
              "2   625652  750782  \n",
              "3   349622  349622  \n",
              "4   291351  291351  "
            ],
            "text/html": [
              "\n",
              "  <div id=\"df-b4cf3d23-24a1-4ed2-8e3d-db47ca486696\" class=\"colab-df-container\">\n",
              "    <div>\n",
              "<style scoped>\n",
              "    .dataframe tbody tr th:only-of-type {\n",
              "        vertical-align: middle;\n",
              "    }\n",
              "\n",
              "    .dataframe tbody tr th {\n",
              "        vertical-align: top;\n",
              "    }\n",
              "\n",
              "    .dataframe thead th {\n",
              "        text-align: right;\n",
              "    }\n",
              "</style>\n",
              "<table border=\"1\" class=\"dataframe\">\n",
              "  <thead>\n",
              "    <tr style=\"text-align: right;\">\n",
              "      <th></th>\n",
              "      <th>Legajo</th>\n",
              "      <th>Estado</th>\n",
              "      <th>Estructura</th>\n",
              "      <th>Convenio</th>\n",
              "      <th>Categoria</th>\n",
              "      <th>ID_Cat</th>\n",
              "      <th>Ingreso</th>\n",
              "      <th>Sexo</th>\n",
              "      <th>provincia</th>\n",
              "      <th>puesto</th>\n",
              "      <th>piramide</th>\n",
              "      <th>Titulo</th>\n",
              "      <th>ID_PuestoBasico</th>\n",
              "      <th>ID_Banco</th>\n",
              "      <th>Banco Pago de Rem</th>\n",
              "      <th>Enero</th>\n",
              "      <th>Febrero</th>\n",
              "      <th>Marzo</th>\n",
              "    </tr>\n",
              "  </thead>\n",
              "  <tbody>\n",
              "    <tr>\n",
              "      <th>0</th>\n",
              "      <td>231</td>\n",
              "      <td>ACTI</td>\n",
              "      <td>Fuera de convenio</td>\n",
              "      <td>FCON</td>\n",
              "      <td>Fuera de Convenio</td>\n",
              "      <td>FCC</td>\n",
              "      <td>08/09/2015</td>\n",
              "      <td>M</td>\n",
              "      <td>FORM</td>\n",
              "      <td>Analista de Mantenimiento</td>\n",
              "      <td>6</td>\n",
              "      <td>NO</td>\n",
              "      <td>AMT</td>\n",
              "      <td>7</td>\n",
              "      <td>BANCO DE GALICIA Y BUENOS AIRES S.A.</td>\n",
              "      <td>487369</td>\n",
              "      <td>633580</td>\n",
              "      <td>760296</td>\n",
              "    </tr>\n",
              "    <tr>\n",
              "      <th>1</th>\n",
              "      <td>236</td>\n",
              "      <td>ACTI</td>\n",
              "      <td>Dentro de convenio</td>\n",
              "      <td>CC-781</td>\n",
              "      <td>27 Hs. CATEGORIA OP. A CCT 781</td>\n",
              "      <td>OP27</td>\n",
              "      <td>14/09/2015</td>\n",
              "      <td>F</td>\n",
              "      <td>FORM</td>\n",
              "      <td>Operador</td>\n",
              "      <td>8</td>\n",
              "      <td>NO</td>\n",
              "      <td>CDT</td>\n",
              "      <td>44</td>\n",
              "      <td>BANCO HIPOTECARIO S.A.</td>\n",
              "      <td>226936</td>\n",
              "      <td>251899</td>\n",
              "      <td>251899</td>\n",
              "    </tr>\n",
              "    <tr>\n",
              "      <th>2</th>\n",
              "      <td>1420</td>\n",
              "      <td>ACTI</td>\n",
              "      <td>Fuera de convenio</td>\n",
              "      <td>FCON</td>\n",
              "      <td>Fuera de Convenio</td>\n",
              "      <td>FCC</td>\n",
              "      <td>02/02/2009</td>\n",
              "      <td>F</td>\n",
              "      <td>CBA</td>\n",
              "      <td>Team Leader Operaciones</td>\n",
              "      <td>7</td>\n",
              "      <td>NO</td>\n",
              "      <td>TLC</td>\n",
              "      <td>7</td>\n",
              "      <td>BANCO DE GALICIA Y BUENOS AIRES S.A.</td>\n",
              "      <td>481271</td>\n",
              "      <td>625652</td>\n",
              "      <td>750782</td>\n",
              "    </tr>\n",
              "    <tr>\n",
              "      <th>3</th>\n",
              "      <td>1444</td>\n",
              "      <td>ACTI</td>\n",
              "      <td>Dentro de convenio</td>\n",
              "      <td>ATCC</td>\n",
              "      <td>36,0 Hs. CATEGORIA 3 CCT688/14</td>\n",
              "      <td>H01</td>\n",
              "      <td>02/02/2009</td>\n",
              "      <td>F</td>\n",
              "      <td>CBA</td>\n",
              "      <td>Operador</td>\n",
              "      <td>8</td>\n",
              "      <td>NO</td>\n",
              "      <td>CDT</td>\n",
              "      <td>72</td>\n",
              "      <td>BANCO SANTANDER RIO S.A.</td>\n",
              "      <td>314974</td>\n",
              "      <td>349622</td>\n",
              "      <td>349622</td>\n",
              "    </tr>\n",
              "    <tr>\n",
              "      <th>4</th>\n",
              "      <td>1470</td>\n",
              "      <td>ACTI</td>\n",
              "      <td>Dentro de convenio</td>\n",
              "      <td>ATCC</td>\n",
              "      <td>30,0 Hs. CATEGORIA 3 CCT688/14</td>\n",
              "      <td>H13</td>\n",
              "      <td>23/02/2009</td>\n",
              "      <td>F</td>\n",
              "      <td>CBA</td>\n",
              "      <td>Operador</td>\n",
              "      <td>8</td>\n",
              "      <td>NO</td>\n",
              "      <td>CDT</td>\n",
              "      <td>72</td>\n",
              "      <td>BANCO SANTANDER RIO S.A.</td>\n",
              "      <td>262479</td>\n",
              "      <td>291351</td>\n",
              "      <td>291351</td>\n",
              "    </tr>\n",
              "  </tbody>\n",
              "</table>\n",
              "</div>\n",
              "    <div class=\"colab-df-buttons\">\n",
              "\n",
              "  <div class=\"colab-df-container\">\n",
              "    <button class=\"colab-df-convert\" onclick=\"convertToInteractive('df-b4cf3d23-24a1-4ed2-8e3d-db47ca486696')\"\n",
              "            title=\"Convert this dataframe to an interactive table.\"\n",
              "            style=\"display:none;\">\n",
              "\n",
              "  <svg xmlns=\"http://www.w3.org/2000/svg\" height=\"24px\" viewBox=\"0 -960 960 960\">\n",
              "    <path d=\"M120-120v-720h720v720H120Zm60-500h600v-160H180v160Zm220 220h160v-160H400v160Zm0 220h160v-160H400v160ZM180-400h160v-160H180v160Zm440 0h160v-160H620v160ZM180-180h160v-160H180v160Zm440 0h160v-160H620v160Z\"/>\n",
              "  </svg>\n",
              "    </button>\n",
              "\n",
              "  <style>\n",
              "    .colab-df-container {\n",
              "      display:flex;\n",
              "      gap: 12px;\n",
              "    }\n",
              "\n",
              "    .colab-df-convert {\n",
              "      background-color: #E8F0FE;\n",
              "      border: none;\n",
              "      border-radius: 50%;\n",
              "      cursor: pointer;\n",
              "      display: none;\n",
              "      fill: #1967D2;\n",
              "      height: 32px;\n",
              "      padding: 0 0 0 0;\n",
              "      width: 32px;\n",
              "    }\n",
              "\n",
              "    .colab-df-convert:hover {\n",
              "      background-color: #E2EBFA;\n",
              "      box-shadow: 0px 1px 2px rgba(60, 64, 67, 0.3), 0px 1px 3px 1px rgba(60, 64, 67, 0.15);\n",
              "      fill: #174EA6;\n",
              "    }\n",
              "\n",
              "    .colab-df-buttons div {\n",
              "      margin-bottom: 4px;\n",
              "    }\n",
              "\n",
              "    [theme=dark] .colab-df-convert {\n",
              "      background-color: #3B4455;\n",
              "      fill: #D2E3FC;\n",
              "    }\n",
              "\n",
              "    [theme=dark] .colab-df-convert:hover {\n",
              "      background-color: #434B5C;\n",
              "      box-shadow: 0px 1px 3px 1px rgba(0, 0, 0, 0.15);\n",
              "      filter: drop-shadow(0px 1px 2px rgba(0, 0, 0, 0.3));\n",
              "      fill: #FFFFFF;\n",
              "    }\n",
              "  </style>\n",
              "\n",
              "    <script>\n",
              "      const buttonEl =\n",
              "        document.querySelector('#df-b4cf3d23-24a1-4ed2-8e3d-db47ca486696 button.colab-df-convert');\n",
              "      buttonEl.style.display =\n",
              "        google.colab.kernel.accessAllowed ? 'block' : 'none';\n",
              "\n",
              "      async function convertToInteractive(key) {\n",
              "        const element = document.querySelector('#df-b4cf3d23-24a1-4ed2-8e3d-db47ca486696');\n",
              "        const dataTable =\n",
              "          await google.colab.kernel.invokeFunction('convertToInteractive',\n",
              "                                                    [key], {});\n",
              "        if (!dataTable) return;\n",
              "\n",
              "        const docLinkHtml = 'Like what you see? Visit the ' +\n",
              "          '<a target=\"_blank\" href=https://colab.research.google.com/notebooks/data_table.ipynb>data table notebook</a>'\n",
              "          + ' to learn more about interactive tables.';\n",
              "        element.innerHTML = '';\n",
              "        dataTable['output_type'] = 'display_data';\n",
              "        await google.colab.output.renderOutput(dataTable, element);\n",
              "        const docLink = document.createElement('div');\n",
              "        docLink.innerHTML = docLinkHtml;\n",
              "        element.appendChild(docLink);\n",
              "      }\n",
              "    </script>\n",
              "  </div>\n",
              "\n",
              "\n",
              "<div id=\"df-b6ca6d86-83c5-42f5-88e0-8dd27abe8464\">\n",
              "  <button class=\"colab-df-quickchart\" onclick=\"quickchart('df-b6ca6d86-83c5-42f5-88e0-8dd27abe8464')\"\n",
              "            title=\"Suggest charts\"\n",
              "            style=\"display:none;\">\n",
              "\n",
              "<svg xmlns=\"http://www.w3.org/2000/svg\" height=\"24px\"viewBox=\"0 0 24 24\"\n",
              "     width=\"24px\">\n",
              "    <g>\n",
              "        <path d=\"M19 3H5c-1.1 0-2 .9-2 2v14c0 1.1.9 2 2 2h14c1.1 0 2-.9 2-2V5c0-1.1-.9-2-2-2zM9 17H7v-7h2v7zm4 0h-2V7h2v10zm4 0h-2v-4h2v4z\"/>\n",
              "    </g>\n",
              "</svg>\n",
              "  </button>\n",
              "\n",
              "<style>\n",
              "  .colab-df-quickchart {\n",
              "      --bg-color: #E8F0FE;\n",
              "      --fill-color: #1967D2;\n",
              "      --hover-bg-color: #E2EBFA;\n",
              "      --hover-fill-color: #174EA6;\n",
              "      --disabled-fill-color: #AAA;\n",
              "      --disabled-bg-color: #DDD;\n",
              "  }\n",
              "\n",
              "  [theme=dark] .colab-df-quickchart {\n",
              "      --bg-color: #3B4455;\n",
              "      --fill-color: #D2E3FC;\n",
              "      --hover-bg-color: #434B5C;\n",
              "      --hover-fill-color: #FFFFFF;\n",
              "      --disabled-bg-color: #3B4455;\n",
              "      --disabled-fill-color: #666;\n",
              "  }\n",
              "\n",
              "  .colab-df-quickchart {\n",
              "    background-color: var(--bg-color);\n",
              "    border: none;\n",
              "    border-radius: 50%;\n",
              "    cursor: pointer;\n",
              "    display: none;\n",
              "    fill: var(--fill-color);\n",
              "    height: 32px;\n",
              "    padding: 0;\n",
              "    width: 32px;\n",
              "  }\n",
              "\n",
              "  .colab-df-quickchart:hover {\n",
              "    background-color: var(--hover-bg-color);\n",
              "    box-shadow: 0 1px 2px rgba(60, 64, 67, 0.3), 0 1px 3px 1px rgba(60, 64, 67, 0.15);\n",
              "    fill: var(--button-hover-fill-color);\n",
              "  }\n",
              "\n",
              "  .colab-df-quickchart-complete:disabled,\n",
              "  .colab-df-quickchart-complete:disabled:hover {\n",
              "    background-color: var(--disabled-bg-color);\n",
              "    fill: var(--disabled-fill-color);\n",
              "    box-shadow: none;\n",
              "  }\n",
              "\n",
              "  .colab-df-spinner {\n",
              "    border: 2px solid var(--fill-color);\n",
              "    border-color: transparent;\n",
              "    border-bottom-color: var(--fill-color);\n",
              "    animation:\n",
              "      spin 1s steps(1) infinite;\n",
              "  }\n",
              "\n",
              "  @keyframes spin {\n",
              "    0% {\n",
              "      border-color: transparent;\n",
              "      border-bottom-color: var(--fill-color);\n",
              "      border-left-color: var(--fill-color);\n",
              "    }\n",
              "    20% {\n",
              "      border-color: transparent;\n",
              "      border-left-color: var(--fill-color);\n",
              "      border-top-color: var(--fill-color);\n",
              "    }\n",
              "    30% {\n",
              "      border-color: transparent;\n",
              "      border-left-color: var(--fill-color);\n",
              "      border-top-color: var(--fill-color);\n",
              "      border-right-color: var(--fill-color);\n",
              "    }\n",
              "    40% {\n",
              "      border-color: transparent;\n",
              "      border-right-color: var(--fill-color);\n",
              "      border-top-color: var(--fill-color);\n",
              "    }\n",
              "    60% {\n",
              "      border-color: transparent;\n",
              "      border-right-color: var(--fill-color);\n",
              "    }\n",
              "    80% {\n",
              "      border-color: transparent;\n",
              "      border-right-color: var(--fill-color);\n",
              "      border-bottom-color: var(--fill-color);\n",
              "    }\n",
              "    90% {\n",
              "      border-color: transparent;\n",
              "      border-bottom-color: var(--fill-color);\n",
              "    }\n",
              "  }\n",
              "</style>\n",
              "\n",
              "  <script>\n",
              "    async function quickchart(key) {\n",
              "      const quickchartButtonEl =\n",
              "        document.querySelector('#' + key + ' button');\n",
              "      quickchartButtonEl.disabled = true;  // To prevent multiple clicks.\n",
              "      quickchartButtonEl.classList.add('colab-df-spinner');\n",
              "      try {\n",
              "        const charts = await google.colab.kernel.invokeFunction(\n",
              "            'suggestCharts', [key], {});\n",
              "      } catch (error) {\n",
              "        console.error('Error during call to suggestCharts:', error);\n",
              "      }\n",
              "      quickchartButtonEl.classList.remove('colab-df-spinner');\n",
              "      quickchartButtonEl.classList.add('colab-df-quickchart-complete');\n",
              "    }\n",
              "    (() => {\n",
              "      let quickchartButtonEl =\n",
              "        document.querySelector('#df-b6ca6d86-83c5-42f5-88e0-8dd27abe8464 button');\n",
              "      quickchartButtonEl.style.display =\n",
              "        google.colab.kernel.accessAllowed ? 'block' : 'none';\n",
              "    })();\n",
              "  </script>\n",
              "</div>\n",
              "\n",
              "    </div>\n",
              "  </div>\n"
            ],
            "application/vnd.google.colaboratory.intrinsic+json": {
              "type": "dataframe",
              "variable_name": "df",
              "summary": "{\n  \"name\": \"df\",\n  \"rows\": 2205,\n  \"fields\": [\n    {\n      \"column\": \"Legajo\",\n      \"properties\": {\n        \"dtype\": \"number\",\n        \"std\": 100734,\n        \"min\": 231,\n        \"max\": 244588,\n        \"num_unique_values\": 2205,\n        \"samples\": [\n          243869,\n          25164,\n          25735\n        ],\n        \"semantic_type\": \"\",\n        \"description\": \"\"\n      }\n    },\n    {\n      \"column\": \"Estado\",\n      \"properties\": {\n        \"dtype\": \"category\",\n        \"num_unique_values\": 1,\n        \"samples\": [\n          \"ACTI\"\n        ],\n        \"semantic_type\": \"\",\n        \"description\": \"\"\n      }\n    },\n    {\n      \"column\": \"Estructura\",\n      \"properties\": {\n        \"dtype\": \"category\",\n        \"num_unique_values\": 2,\n        \"samples\": [\n          \"Dentro de convenio\"\n        ],\n        \"semantic_type\": \"\",\n        \"description\": \"\"\n      }\n    },\n    {\n      \"column\": \"Convenio\",\n      \"properties\": {\n        \"dtype\": \"category\",\n        \"num_unique_values\": 3,\n        \"samples\": [\n          \"FCON    \"\n        ],\n        \"semantic_type\": \"\",\n        \"description\": \"\"\n      }\n    },\n    {\n      \"column\": \"Categoria\",\n      \"properties\": {\n        \"dtype\": \"category\",\n        \"num_unique_values\": 17,\n        \"samples\": [\n          \"Fuera de Convenio\"\n        ],\n        \"semantic_type\": \"\",\n        \"description\": \"\"\n      }\n    },\n    {\n      \"column\": \"ID_Cat\",\n      \"properties\": {\n        \"dtype\": \"category\",\n        \"num_unique_values\": 17,\n        \"samples\": [\n          \"FCC \"\n        ],\n        \"semantic_type\": \"\",\n        \"description\": \"\"\n      }\n    },\n    {\n      \"column\": \"Ingreso\",\n      \"properties\": {\n        \"dtype\": \"category\",\n        \"num_unique_values\": 649,\n        \"samples\": [\n          \"03/10/2023\"\n        ],\n        \"semantic_type\": \"\",\n        \"description\": \"\"\n      }\n    },\n    {\n      \"column\": \"Sexo\",\n      \"properties\": {\n        \"dtype\": \"category\",\n        \"num_unique_values\": 2,\n        \"samples\": [\n          \"F\"\n        ],\n        \"semantic_type\": \"\",\n        \"description\": \"\"\n      }\n    },\n    {\n      \"column\": \"provincia\",\n      \"properties\": {\n        \"dtype\": \"category\",\n        \"num_unique_values\": 3,\n        \"samples\": [\n          \"FORM                    \"\n        ],\n        \"semantic_type\": \"\",\n        \"description\": \"\"\n      }\n    },\n    {\n      \"column\": \"puesto\",\n      \"properties\": {\n        \"dtype\": \"category\",\n        \"num_unique_values\": 71,\n        \"samples\": [\n          \"Analista de Control C de Serv\"\n        ],\n        \"semantic_type\": \"\",\n        \"description\": \"\"\n      }\n    },\n    {\n      \"column\": \"piramide\",\n      \"properties\": {\n        \"dtype\": \"number\",\n        \"std\": 0,\n        \"min\": 0,\n        \"max\": 8,\n        \"num_unique_values\": 9,\n        \"samples\": [\n          1\n        ],\n        \"semantic_type\": \"\",\n        \"description\": \"\"\n      }\n    },\n    {\n      \"column\": \"Titulo \",\n      \"properties\": {\n        \"dtype\": \"category\",\n        \"num_unique_values\": 2,\n        \"samples\": [\n          \"SI\"\n        ],\n        \"semantic_type\": \"\",\n        \"description\": \"\"\n      }\n    },\n    {\n      \"column\": \"ID_PuestoBasico\",\n      \"properties\": {\n        \"dtype\": \"category\",\n        \"num_unique_values\": 71,\n        \"samples\": [\n          \"ACS     \"\n        ],\n        \"semantic_type\": \"\",\n        \"description\": \"\"\n      }\n    },\n    {\n      \"column\": \"ID_Banco\",\n      \"properties\": {\n        \"dtype\": \"number\",\n        \"std\": 32,\n        \"min\": 7,\n        \"max\": 150,\n        \"num_unique_values\": 9,\n        \"samples\": [\n          15\n        ],\n        \"semantic_type\": \"\",\n        \"description\": \"\"\n      }\n    },\n    {\n      \"column\": \"Banco Pago de Rem\",\n      \"properties\": {\n        \"dtype\": \"category\",\n        \"num_unique_values\": 9,\n        \"samples\": [\n          \"INDUSTRIAL AND COMMERCIAL BANK OF CHINA\"\n        ],\n        \"semantic_type\": \"\",\n        \"description\": \"\"\n      }\n    },\n    {\n      \"column\": \"Enero\",\n      \"properties\": {\n        \"dtype\": \"number\",\n        \"std\": 204889,\n        \"min\": 168101,\n        \"max\": 4668357,\n        \"num_unique_values\": 72,\n        \"samples\": [\n          262479\n        ],\n        \"semantic_type\": \"\",\n        \"description\": \"\"\n      }\n    },\n    {\n      \"column\": \"Febrero\",\n      \"properties\": {\n        \"dtype\": \"number\",\n        \"std\": 274046,\n        \"min\": 186592,\n        \"max\": 6068864,\n        \"num_unique_values\": 71,\n        \"samples\": [\n          233081\n        ],\n        \"semantic_type\": \"\",\n        \"description\": \"\"\n      }\n    },\n    {\n      \"column\": \"Marzo\",\n      \"properties\": {\n        \"dtype\": \"number\",\n        \"std\": 338883,\n        \"min\": 186592,\n        \"max\": 6982637,\n        \"num_unique_values\": 71,\n        \"samples\": [\n          233081\n        ],\n        \"semantic_type\": \"\",\n        \"description\": \"\"\n      }\n    }\n  ]\n}"
            }
          },
          "metadata": {},
          "execution_count": 144
        }
      ]
    },
    {
      "cell_type": "code",
      "source": [
        "print(df.dtypes)"
      ],
      "metadata": {
        "colab": {
          "base_uri": "https://localhost:8080/"
        },
        "id": "AgntgMOsmy2A",
        "outputId": "985e1e02-c5d6-466f-9a75-b33886eb38a4"
      },
      "execution_count": 145,
      "outputs": [
        {
          "output_type": "stream",
          "name": "stdout",
          "text": [
            "Legajo                int64\n",
            "Estado               object\n",
            "Estructura           object\n",
            "Convenio             object\n",
            "Categoria            object\n",
            "ID_Cat               object\n",
            "Ingreso              object\n",
            "Sexo                 object\n",
            "provincia            object\n",
            "puesto               object\n",
            "piramide              int64\n",
            "Titulo               object\n",
            "ID_PuestoBasico      object\n",
            "ID_Banco              int64\n",
            "Banco Pago de Rem    object\n",
            "Enero                 int64\n",
            "Febrero               int64\n",
            "Marzo                 int64\n",
            "dtype: object\n"
          ]
        }
      ]
    },
    {
      "cell_type": "markdown",
      "source": [
        "# Descripcion de Variables"
      ],
      "metadata": {
        "id": "mywDR8SH_WAm"
      }
    },
    {
      "cell_type": "markdown",
      "source": [
        "Legajo: numero identificador del empleado, ID univoco que no se repite dentro del dataset.\n",
        "\n",
        "Estado: hace referencia a si el empleado se encuentra activo al momento del armado del dataset.\n",
        "\n",
        "Estructura: detalla la estructura de liquidación bajo la cual se encuentra contenido el empleado. Los puestos asociados a staff, analistas, supervisores, responsables, etc., son los asociados al personal fuera de convenio. El personal que realiza tareas operativas detalladas explícitamente en una convención colectiva de trabajo nomenclada y registrada como tal, están asociados al personal dentro de convenio. [Fuera de convenio, Dentro de convenio]\n",
        "\n",
        "Convenio: detalla los posibles convenios al que puede pertenecer el empleado [FCON,CC-781,ATCC]\n",
        "Categoría: detalla la categoría a la que pertenece el empleado\n",
        "\n",
        "ID_Cat: código de la categoría del empleado.\n",
        "\n",
        "Ingreso: fecha de ingreso del empleado a la empresa.\n",
        "\n",
        "Sexo: sexo del empleado [M: Hombre, F: Mujer]\n",
        "\n",
        "Provincia: sucursal en la que el empleado se encuentra actualmente prestando servicios [FORM,CBA, CABA2]\n",
        "\n",
        "Puesto: se detallan las codificaciones y puestos de todo el personal\n",
        "\n",
        "Pirámide: detalla el nivel de jerarquía en el organigrama de la empresa, siendo 8 el valor que se ubica en la base de la piramide y 0 el ultimo valor de la cima de la misma [0,1,2,3,4,5,6,7,8]\n",
        "\n",
        "Título: hace referencia a la posesión del mismo [SI,NO]\n",
        "\n",
        "ID_PuestoBasico: código del puesto del empleado.\n",
        "\n",
        "ID Banco: código del banco donde el empleado percibe sus haberes.\n",
        "\n"
      ],
      "metadata": {
        "id": "FafL4Fwhlo7V"
      }
    },
    {
      "cell_type": "markdown",
      "source": [],
      "metadata": {
        "id": "5ckDhgD5mSm9"
      }
    },
    {
      "cell_type": "markdown",
      "source": [
        "# Desctipcion del Dataset"
      ],
      "metadata": {
        "id": "kWP5QFod_gZC"
      }
    },
    {
      "cell_type": "markdown",
      "source": [
        "En la descripcion del dataset, al solicitar el detalle de cada tipo de variable, se observa, que esta leyendo tres columnas que poseen datos de sueldo, por ende son numericas, como de tipo objeto. Por tal motivo se procede a la correccion de las mismas."
      ],
      "metadata": {
        "id": "NUzvfy3r_tQz"
      }
    },
    {
      "cell_type": "code",
      "source": [
        "columnas_objeto = df.select_dtypes(include=['object']).columns\n",
        "print(\"Columnas que Pandas interpreta como 'object':\\n\", columnas_objeto)"
      ],
      "metadata": {
        "colab": {
          "base_uri": "https://localhost:8080/"
        },
        "id": "aMR6Elvp_yHa",
        "outputId": "9c810b9a-9700-48df-a662-d06e0da1157f"
      },
      "execution_count": 146,
      "outputs": [
        {
          "output_type": "stream",
          "name": "stdout",
          "text": [
            "Columnas que Pandas interpreta como 'object':\n",
            " Index(['Estado', 'Estructura', 'Convenio', 'Categoria', 'ID_Cat', 'Ingreso',\n",
            "       'Sexo', 'provincia', 'puesto', 'Titulo ', 'ID_PuestoBasico',\n",
            "       'Banco Pago de Rem'],\n",
            "      dtype='object')\n"
          ]
        }
      ]
    },
    {
      "cell_type": "code",
      "source": [
        "df['Legajo'] = df['Legajo'].astype(str)"
      ],
      "metadata": {
        "id": "yXvCPUOqBKaA"
      },
      "execution_count": 147,
      "outputs": []
    },
    {
      "cell_type": "code",
      "source": [
        "print(df['Legajo'].dtype)"
      ],
      "metadata": {
        "colab": {
          "base_uri": "https://localhost:8080/"
        },
        "id": "QlaGJl2uBNDF",
        "outputId": "36fbba50-fbc2-4a29-b117-a4787d2f82fd"
      },
      "execution_count": 148,
      "outputs": [
        {
          "output_type": "stream",
          "name": "stdout",
          "text": [
            "object\n"
          ]
        }
      ]
    },
    {
      "cell_type": "markdown",
      "source": [
        "Se modifica el tipo de dato del legajo de numero a texto, para que no genere distorsion a nivel estadistico, debido a que no es un valor numerico relevante en este caso"
      ],
      "metadata": {
        "id": "TS9ZxWkrBO-t"
      }
    },
    {
      "cell_type": "code",
      "source": [
        "print(df.dtypes)"
      ],
      "metadata": {
        "colab": {
          "base_uri": "https://localhost:8080/"
        },
        "id": "5SXHpeLKBRr6",
        "outputId": "1ba90eac-a385-459f-9f78-8744da3a9d12"
      },
      "execution_count": 149,
      "outputs": [
        {
          "output_type": "stream",
          "name": "stdout",
          "text": [
            "Legajo               object\n",
            "Estado               object\n",
            "Estructura           object\n",
            "Convenio             object\n",
            "Categoria            object\n",
            "ID_Cat               object\n",
            "Ingreso              object\n",
            "Sexo                 object\n",
            "provincia            object\n",
            "puesto               object\n",
            "piramide              int64\n",
            "Titulo               object\n",
            "ID_PuestoBasico      object\n",
            "ID_Banco              int64\n",
            "Banco Pago de Rem    object\n",
            "Enero                 int64\n",
            "Febrero               int64\n",
            "Marzo                 int64\n",
            "dtype: object\n"
          ]
        }
      ]
    },
    {
      "cell_type": "code",
      "source": [
        "df.shape"
      ],
      "metadata": {
        "colab": {
          "base_uri": "https://localhost:8080/"
        },
        "id": "90pbVG5WBaqZ",
        "outputId": "2ffefeff-44b5-4220-bf52-dd9563333d39"
      },
      "execution_count": 150,
      "outputs": [
        {
          "output_type": "execute_result",
          "data": {
            "text/plain": [
              "(2205, 18)"
            ]
          },
          "metadata": {},
          "execution_count": 150
        }
      ]
    },
    {
      "cell_type": "markdown",
      "source": [
        "El dataset obtenido posee 2205 filas y 18 columnas"
      ],
      "metadata": {
        "id": "bkV1lQiMBcoA"
      }
    },
    {
      "cell_type": "code",
      "source": [
        "df.duplicated().value_counts()"
      ],
      "metadata": {
        "colab": {
          "base_uri": "https://localhost:8080/",
          "height": 115
        },
        "id": "yfzx_Hz8BfN4",
        "outputId": "d490bef2-c0a8-424d-99cc-ecc051959a5a"
      },
      "execution_count": 151,
      "outputs": [
        {
          "output_type": "execute_result",
          "data": {
            "text/plain": [
              "False    2205\n",
              "Name: count, dtype: int64"
            ],
            "text/html": [
              "<div>\n",
              "<style scoped>\n",
              "    .dataframe tbody tr th:only-of-type {\n",
              "        vertical-align: middle;\n",
              "    }\n",
              "\n",
              "    .dataframe tbody tr th {\n",
              "        vertical-align: top;\n",
              "    }\n",
              "\n",
              "    .dataframe thead th {\n",
              "        text-align: right;\n",
              "    }\n",
              "</style>\n",
              "<table border=\"1\" class=\"dataframe\">\n",
              "  <thead>\n",
              "    <tr style=\"text-align: right;\">\n",
              "      <th></th>\n",
              "      <th>count</th>\n",
              "    </tr>\n",
              "  </thead>\n",
              "  <tbody>\n",
              "    <tr>\n",
              "      <th>False</th>\n",
              "      <td>2205</td>\n",
              "    </tr>\n",
              "  </tbody>\n",
              "</table>\n",
              "</div><br><label><b>dtype:</b> int64</label>"
            ]
          },
          "metadata": {},
          "execution_count": 151
        }
      ]
    },
    {
      "cell_type": "markdown",
      "source": [
        "El dataset no posee filas repetidas."
      ],
      "metadata": {
        "id": "vsVz-AfZBijx"
      }
    },
    {
      "cell_type": "code",
      "source": [
        "df.info(verbose = True)"
      ],
      "metadata": {
        "colab": {
          "base_uri": "https://localhost:8080/"
        },
        "id": "TZTskuH_Bk3F",
        "outputId": "285b951b-b984-4b2d-990d-4e0b5c1da262"
      },
      "execution_count": 152,
      "outputs": [
        {
          "output_type": "stream",
          "name": "stdout",
          "text": [
            "<class 'pandas.core.frame.DataFrame'>\n",
            "RangeIndex: 2205 entries, 0 to 2204\n",
            "Data columns (total 18 columns):\n",
            " #   Column             Non-Null Count  Dtype \n",
            "---  ------             --------------  ----- \n",
            " 0   Legajo             2205 non-null   object\n",
            " 1   Estado             2205 non-null   object\n",
            " 2   Estructura         2205 non-null   object\n",
            " 3   Convenio           2205 non-null   object\n",
            " 4   Categoria          2205 non-null   object\n",
            " 5   ID_Cat             2205 non-null   object\n",
            " 6   Ingreso            2205 non-null   object\n",
            " 7   Sexo               2205 non-null   object\n",
            " 8   provincia          2205 non-null   object\n",
            " 9   puesto             2205 non-null   object\n",
            " 10  piramide           2205 non-null   int64 \n",
            " 11  Titulo             2205 non-null   object\n",
            " 12  ID_PuestoBasico    2205 non-null   object\n",
            " 13  ID_Banco           2205 non-null   int64 \n",
            " 14  Banco Pago de Rem  2205 non-null   object\n",
            " 15  Enero              2205 non-null   int64 \n",
            " 16  Febrero            2205 non-null   int64 \n",
            " 17  Marzo              2205 non-null   int64 \n",
            "dtypes: int64(5), object(13)\n",
            "memory usage: 310.2+ KB\n"
          ]
        }
      ]
    },
    {
      "cell_type": "markdown",
      "source": [
        "analisis de valores nulos, no posee.\n"
      ],
      "metadata": {
        "id": "4i8OA9IrBous"
      }
    },
    {
      "cell_type": "code",
      "source": [
        "df.info(verbose = True)"
      ],
      "metadata": {
        "colab": {
          "base_uri": "https://localhost:8080/"
        },
        "id": "r1TfoB0k81YL",
        "outputId": "f341ad1b-ba1e-4e21-acf5-0ac3f741a8b1"
      },
      "execution_count": 154,
      "outputs": [
        {
          "output_type": "stream",
          "name": "stdout",
          "text": [
            "<class 'pandas.core.frame.DataFrame'>\n",
            "RangeIndex: 2205 entries, 0 to 2204\n",
            "Data columns (total 18 columns):\n",
            " #   Column             Non-Null Count  Dtype \n",
            "---  ------             --------------  ----- \n",
            " 0   Legajo             2205 non-null   object\n",
            " 1   Estado             2205 non-null   object\n",
            " 2   Estructura         2205 non-null   object\n",
            " 3   Convenio           2205 non-null   object\n",
            " 4   Categoria          2205 non-null   object\n",
            " 5   ID_Cat             2205 non-null   object\n",
            " 6   Ingreso            2205 non-null   object\n",
            " 7   Sexo               2205 non-null   object\n",
            " 8   provincia          2205 non-null   object\n",
            " 9   puesto             2205 non-null   object\n",
            " 10  piramide           2205 non-null   int64 \n",
            " 11  Titulo             2205 non-null   object\n",
            " 12  ID_PuestoBasico    2205 non-null   object\n",
            " 13  ID_Banco           2205 non-null   int64 \n",
            " 14  Banco Pago de Rem  2205 non-null   object\n",
            " 15  Enero              2205 non-null   int64 \n",
            " 16  Febrero            2205 non-null   int64 \n",
            " 17  Marzo              2205 non-null   int64 \n",
            "dtypes: int64(5), object(13)\n",
            "memory usage: 310.2+ KB\n"
          ]
        }
      ]
    },
    {
      "cell_type": "markdown",
      "source": [
        "# Columnas Categoricas"
      ],
      "metadata": {
        "id": "QNO9Er2iB1dp"
      }
    },
    {
      "cell_type": "code",
      "source": [
        "df.describe(include = 'object').T"
      ],
      "metadata": {
        "colab": {
          "base_uri": "https://localhost:8080/",
          "height": 457
        },
        "id": "6a52q5rlEekH",
        "outputId": "4ea8f1f2-21dc-4e39-9280-a4f7b20727ce"
      },
      "execution_count": 155,
      "outputs": [
        {
          "output_type": "execute_result",
          "data": {
            "text/plain": [
              "                  count unique                             top  freq\n",
              "Legajo             2205   2205                             231     1\n",
              "Estado             2205      1                            ACTI  2205\n",
              "Estructura         2205      2              Dentro de convenio  1789\n",
              "Convenio           2205      3                        ATCC      1398\n",
              "Categoria          2205     17  36,0 Hs. CATEGORIA 3 CCT688/14   616\n",
              "ID_Cat             2205     17                            H01    616\n",
              "Ingreso            2205    649                      01/08/2022    45\n",
              "Sexo               2205      2                               F  1564\n",
              "provincia          2205      3        CBA                       1620\n",
              "puesto             2205     71                       Operador   1789\n",
              "Titulo             2205      2                              NO  2079\n",
              "ID_PuestoBasico    2205     71                        CDT       1789\n",
              "Banco Pago de Rem  2205      9        BANCO SANTANDER RIO S.A.  1089"
            ],
            "text/html": [
              "\n",
              "  <div id=\"df-8e781629-54b9-4dd3-8bd9-8d3a66ab5d45\" class=\"colab-df-container\">\n",
              "    <div>\n",
              "<style scoped>\n",
              "    .dataframe tbody tr th:only-of-type {\n",
              "        vertical-align: middle;\n",
              "    }\n",
              "\n",
              "    .dataframe tbody tr th {\n",
              "        vertical-align: top;\n",
              "    }\n",
              "\n",
              "    .dataframe thead th {\n",
              "        text-align: right;\n",
              "    }\n",
              "</style>\n",
              "<table border=\"1\" class=\"dataframe\">\n",
              "  <thead>\n",
              "    <tr style=\"text-align: right;\">\n",
              "      <th></th>\n",
              "      <th>count</th>\n",
              "      <th>unique</th>\n",
              "      <th>top</th>\n",
              "      <th>freq</th>\n",
              "    </tr>\n",
              "  </thead>\n",
              "  <tbody>\n",
              "    <tr>\n",
              "      <th>Legajo</th>\n",
              "      <td>2205</td>\n",
              "      <td>2205</td>\n",
              "      <td>231</td>\n",
              "      <td>1</td>\n",
              "    </tr>\n",
              "    <tr>\n",
              "      <th>Estado</th>\n",
              "      <td>2205</td>\n",
              "      <td>1</td>\n",
              "      <td>ACTI</td>\n",
              "      <td>2205</td>\n",
              "    </tr>\n",
              "    <tr>\n",
              "      <th>Estructura</th>\n",
              "      <td>2205</td>\n",
              "      <td>2</td>\n",
              "      <td>Dentro de convenio</td>\n",
              "      <td>1789</td>\n",
              "    </tr>\n",
              "    <tr>\n",
              "      <th>Convenio</th>\n",
              "      <td>2205</td>\n",
              "      <td>3</td>\n",
              "      <td>ATCC</td>\n",
              "      <td>1398</td>\n",
              "    </tr>\n",
              "    <tr>\n",
              "      <th>Categoria</th>\n",
              "      <td>2205</td>\n",
              "      <td>17</td>\n",
              "      <td>36,0 Hs. CATEGORIA 3 CCT688/14</td>\n",
              "      <td>616</td>\n",
              "    </tr>\n",
              "    <tr>\n",
              "      <th>ID_Cat</th>\n",
              "      <td>2205</td>\n",
              "      <td>17</td>\n",
              "      <td>H01</td>\n",
              "      <td>616</td>\n",
              "    </tr>\n",
              "    <tr>\n",
              "      <th>Ingreso</th>\n",
              "      <td>2205</td>\n",
              "      <td>649</td>\n",
              "      <td>01/08/2022</td>\n",
              "      <td>45</td>\n",
              "    </tr>\n",
              "    <tr>\n",
              "      <th>Sexo</th>\n",
              "      <td>2205</td>\n",
              "      <td>2</td>\n",
              "      <td>F</td>\n",
              "      <td>1564</td>\n",
              "    </tr>\n",
              "    <tr>\n",
              "      <th>provincia</th>\n",
              "      <td>2205</td>\n",
              "      <td>3</td>\n",
              "      <td>CBA</td>\n",
              "      <td>1620</td>\n",
              "    </tr>\n",
              "    <tr>\n",
              "      <th>puesto</th>\n",
              "      <td>2205</td>\n",
              "      <td>71</td>\n",
              "      <td>Operador</td>\n",
              "      <td>1789</td>\n",
              "    </tr>\n",
              "    <tr>\n",
              "      <th>Titulo</th>\n",
              "      <td>2205</td>\n",
              "      <td>2</td>\n",
              "      <td>NO</td>\n",
              "      <td>2079</td>\n",
              "    </tr>\n",
              "    <tr>\n",
              "      <th>ID_PuestoBasico</th>\n",
              "      <td>2205</td>\n",
              "      <td>71</td>\n",
              "      <td>CDT</td>\n",
              "      <td>1789</td>\n",
              "    </tr>\n",
              "    <tr>\n",
              "      <th>Banco Pago de Rem</th>\n",
              "      <td>2205</td>\n",
              "      <td>9</td>\n",
              "      <td>BANCO SANTANDER RIO S.A.</td>\n",
              "      <td>1089</td>\n",
              "    </tr>\n",
              "  </tbody>\n",
              "</table>\n",
              "</div>\n",
              "    <div class=\"colab-df-buttons\">\n",
              "\n",
              "  <div class=\"colab-df-container\">\n",
              "    <button class=\"colab-df-convert\" onclick=\"convertToInteractive('df-8e781629-54b9-4dd3-8bd9-8d3a66ab5d45')\"\n",
              "            title=\"Convert this dataframe to an interactive table.\"\n",
              "            style=\"display:none;\">\n",
              "\n",
              "  <svg xmlns=\"http://www.w3.org/2000/svg\" height=\"24px\" viewBox=\"0 -960 960 960\">\n",
              "    <path d=\"M120-120v-720h720v720H120Zm60-500h600v-160H180v160Zm220 220h160v-160H400v160Zm0 220h160v-160H400v160ZM180-400h160v-160H180v160Zm440 0h160v-160H620v160ZM180-180h160v-160H180v160Zm440 0h160v-160H620v160Z\"/>\n",
              "  </svg>\n",
              "    </button>\n",
              "\n",
              "  <style>\n",
              "    .colab-df-container {\n",
              "      display:flex;\n",
              "      gap: 12px;\n",
              "    }\n",
              "\n",
              "    .colab-df-convert {\n",
              "      background-color: #E8F0FE;\n",
              "      border: none;\n",
              "      border-radius: 50%;\n",
              "      cursor: pointer;\n",
              "      display: none;\n",
              "      fill: #1967D2;\n",
              "      height: 32px;\n",
              "      padding: 0 0 0 0;\n",
              "      width: 32px;\n",
              "    }\n",
              "\n",
              "    .colab-df-convert:hover {\n",
              "      background-color: #E2EBFA;\n",
              "      box-shadow: 0px 1px 2px rgba(60, 64, 67, 0.3), 0px 1px 3px 1px rgba(60, 64, 67, 0.15);\n",
              "      fill: #174EA6;\n",
              "    }\n",
              "\n",
              "    .colab-df-buttons div {\n",
              "      margin-bottom: 4px;\n",
              "    }\n",
              "\n",
              "    [theme=dark] .colab-df-convert {\n",
              "      background-color: #3B4455;\n",
              "      fill: #D2E3FC;\n",
              "    }\n",
              "\n",
              "    [theme=dark] .colab-df-convert:hover {\n",
              "      background-color: #434B5C;\n",
              "      box-shadow: 0px 1px 3px 1px rgba(0, 0, 0, 0.15);\n",
              "      filter: drop-shadow(0px 1px 2px rgba(0, 0, 0, 0.3));\n",
              "      fill: #FFFFFF;\n",
              "    }\n",
              "  </style>\n",
              "\n",
              "    <script>\n",
              "      const buttonEl =\n",
              "        document.querySelector('#df-8e781629-54b9-4dd3-8bd9-8d3a66ab5d45 button.colab-df-convert');\n",
              "      buttonEl.style.display =\n",
              "        google.colab.kernel.accessAllowed ? 'block' : 'none';\n",
              "\n",
              "      async function convertToInteractive(key) {\n",
              "        const element = document.querySelector('#df-8e781629-54b9-4dd3-8bd9-8d3a66ab5d45');\n",
              "        const dataTable =\n",
              "          await google.colab.kernel.invokeFunction('convertToInteractive',\n",
              "                                                    [key], {});\n",
              "        if (!dataTable) return;\n",
              "\n",
              "        const docLinkHtml = 'Like what you see? Visit the ' +\n",
              "          '<a target=\"_blank\" href=https://colab.research.google.com/notebooks/data_table.ipynb>data table notebook</a>'\n",
              "          + ' to learn more about interactive tables.';\n",
              "        element.innerHTML = '';\n",
              "        dataTable['output_type'] = 'display_data';\n",
              "        await google.colab.output.renderOutput(dataTable, element);\n",
              "        const docLink = document.createElement('div');\n",
              "        docLink.innerHTML = docLinkHtml;\n",
              "        element.appendChild(docLink);\n",
              "      }\n",
              "    </script>\n",
              "  </div>\n",
              "\n",
              "\n",
              "<div id=\"df-5a5f67ea-9f6d-4102-b4e2-344b4c937cf8\">\n",
              "  <button class=\"colab-df-quickchart\" onclick=\"quickchart('df-5a5f67ea-9f6d-4102-b4e2-344b4c937cf8')\"\n",
              "            title=\"Suggest charts\"\n",
              "            style=\"display:none;\">\n",
              "\n",
              "<svg xmlns=\"http://www.w3.org/2000/svg\" height=\"24px\"viewBox=\"0 0 24 24\"\n",
              "     width=\"24px\">\n",
              "    <g>\n",
              "        <path d=\"M19 3H5c-1.1 0-2 .9-2 2v14c0 1.1.9 2 2 2h14c1.1 0 2-.9 2-2V5c0-1.1-.9-2-2-2zM9 17H7v-7h2v7zm4 0h-2V7h2v10zm4 0h-2v-4h2v4z\"/>\n",
              "    </g>\n",
              "</svg>\n",
              "  </button>\n",
              "\n",
              "<style>\n",
              "  .colab-df-quickchart {\n",
              "      --bg-color: #E8F0FE;\n",
              "      --fill-color: #1967D2;\n",
              "      --hover-bg-color: #E2EBFA;\n",
              "      --hover-fill-color: #174EA6;\n",
              "      --disabled-fill-color: #AAA;\n",
              "      --disabled-bg-color: #DDD;\n",
              "  }\n",
              "\n",
              "  [theme=dark] .colab-df-quickchart {\n",
              "      --bg-color: #3B4455;\n",
              "      --fill-color: #D2E3FC;\n",
              "      --hover-bg-color: #434B5C;\n",
              "      --hover-fill-color: #FFFFFF;\n",
              "      --disabled-bg-color: #3B4455;\n",
              "      --disabled-fill-color: #666;\n",
              "  }\n",
              "\n",
              "  .colab-df-quickchart {\n",
              "    background-color: var(--bg-color);\n",
              "    border: none;\n",
              "    border-radius: 50%;\n",
              "    cursor: pointer;\n",
              "    display: none;\n",
              "    fill: var(--fill-color);\n",
              "    height: 32px;\n",
              "    padding: 0;\n",
              "    width: 32px;\n",
              "  }\n",
              "\n",
              "  .colab-df-quickchart:hover {\n",
              "    background-color: var(--hover-bg-color);\n",
              "    box-shadow: 0 1px 2px rgba(60, 64, 67, 0.3), 0 1px 3px 1px rgba(60, 64, 67, 0.15);\n",
              "    fill: var(--button-hover-fill-color);\n",
              "  }\n",
              "\n",
              "  .colab-df-quickchart-complete:disabled,\n",
              "  .colab-df-quickchart-complete:disabled:hover {\n",
              "    background-color: var(--disabled-bg-color);\n",
              "    fill: var(--disabled-fill-color);\n",
              "    box-shadow: none;\n",
              "  }\n",
              "\n",
              "  .colab-df-spinner {\n",
              "    border: 2px solid var(--fill-color);\n",
              "    border-color: transparent;\n",
              "    border-bottom-color: var(--fill-color);\n",
              "    animation:\n",
              "      spin 1s steps(1) infinite;\n",
              "  }\n",
              "\n",
              "  @keyframes spin {\n",
              "    0% {\n",
              "      border-color: transparent;\n",
              "      border-bottom-color: var(--fill-color);\n",
              "      border-left-color: var(--fill-color);\n",
              "    }\n",
              "    20% {\n",
              "      border-color: transparent;\n",
              "      border-left-color: var(--fill-color);\n",
              "      border-top-color: var(--fill-color);\n",
              "    }\n",
              "    30% {\n",
              "      border-color: transparent;\n",
              "      border-left-color: var(--fill-color);\n",
              "      border-top-color: var(--fill-color);\n",
              "      border-right-color: var(--fill-color);\n",
              "    }\n",
              "    40% {\n",
              "      border-color: transparent;\n",
              "      border-right-color: var(--fill-color);\n",
              "      border-top-color: var(--fill-color);\n",
              "    }\n",
              "    60% {\n",
              "      border-color: transparent;\n",
              "      border-right-color: var(--fill-color);\n",
              "    }\n",
              "    80% {\n",
              "      border-color: transparent;\n",
              "      border-right-color: var(--fill-color);\n",
              "      border-bottom-color: var(--fill-color);\n",
              "    }\n",
              "    90% {\n",
              "      border-color: transparent;\n",
              "      border-bottom-color: var(--fill-color);\n",
              "    }\n",
              "  }\n",
              "</style>\n",
              "\n",
              "  <script>\n",
              "    async function quickchart(key) {\n",
              "      const quickchartButtonEl =\n",
              "        document.querySelector('#' + key + ' button');\n",
              "      quickchartButtonEl.disabled = true;  // To prevent multiple clicks.\n",
              "      quickchartButtonEl.classList.add('colab-df-spinner');\n",
              "      try {\n",
              "        const charts = await google.colab.kernel.invokeFunction(\n",
              "            'suggestCharts', [key], {});\n",
              "      } catch (error) {\n",
              "        console.error('Error during call to suggestCharts:', error);\n",
              "      }\n",
              "      quickchartButtonEl.classList.remove('colab-df-spinner');\n",
              "      quickchartButtonEl.classList.add('colab-df-quickchart-complete');\n",
              "    }\n",
              "    (() => {\n",
              "      let quickchartButtonEl =\n",
              "        document.querySelector('#df-5a5f67ea-9f6d-4102-b4e2-344b4c937cf8 button');\n",
              "      quickchartButtonEl.style.display =\n",
              "        google.colab.kernel.accessAllowed ? 'block' : 'none';\n",
              "    })();\n",
              "  </script>\n",
              "</div>\n",
              "\n",
              "    </div>\n",
              "  </div>\n"
            ],
            "application/vnd.google.colaboratory.intrinsic+json": {
              "type": "dataframe",
              "summary": "{\n  \"name\": \"df\",\n  \"rows\": 13,\n  \"fields\": [\n    {\n      \"column\": \"count\",\n      \"properties\": {\n        \"dtype\": \"date\",\n        \"min\": \"2205\",\n        \"max\": \"2205\",\n        \"num_unique_values\": 1,\n        \"samples\": [\n          \"2205\"\n        ],\n        \"semantic_type\": \"\",\n        \"description\": \"\"\n      }\n    },\n    {\n      \"column\": \"unique\",\n      \"properties\": {\n        \"dtype\": \"date\",\n        \"min\": 1,\n        \"max\": 2205,\n        \"num_unique_values\": 8,\n        \"samples\": [\n          1\n        ],\n        \"semantic_type\": \"\",\n        \"description\": \"\"\n      }\n    },\n    {\n      \"column\": \"top\",\n      \"properties\": {\n        \"dtype\": \"string\",\n        \"num_unique_values\": 13,\n        \"samples\": [\n          \"CDT     \"\n        ],\n        \"semantic_type\": \"\",\n        \"description\": \"\"\n      }\n    },\n    {\n      \"column\": \"freq\",\n      \"properties\": {\n        \"dtype\": \"date\",\n        \"min\": \"1\",\n        \"max\": \"2205\",\n        \"num_unique_values\": 10,\n        \"samples\": [\n          \"2079\"\n        ],\n        \"semantic_type\": \"\",\n        \"description\": \"\"\n      }\n    }\n  ]\n}"
            }
          },
          "metadata": {},
          "execution_count": 155
        }
      ]
    },
    {
      "cell_type": "markdown",
      "source": [
        "# Columnas Numericas"
      ],
      "metadata": {
        "id": "SW8cYsknB9mc"
      }
    },
    {
      "cell_type": "code",
      "source": [
        "df.describe().T"
      ],
      "metadata": {
        "colab": {
          "base_uri": "https://localhost:8080/",
          "height": 206
        },
        "id": "KEFugWcsCVuG",
        "outputId": "e6d8da70-d348-45d2-a9e6-0dd6042e1f0c"
      },
      "execution_count": 126,
      "outputs": [
        {
          "output_type": "execute_result",
          "data": {
            "text/plain": [
              "           count           mean            std       min       25%       50%  \\\n",
              "piramide  2205.0       7.600000       0.993902       0.0       8.0       8.0   \n",
              "ID_Banco  2205.0      54.562812      32.542047       7.0      27.0      72.0   \n",
              "Enero     2205.0  333951.576871  204889.529095  168101.0  262479.0  306225.0   \n",
              "Febrero   2205.0  388366.269841  274046.567680  186592.0  291351.0  339910.0   \n",
              "Marzo     2205.0  411957.604082  338883.543822  186592.0  291351.0  339910.0   \n",
              "\n",
              "               75%        max  \n",
              "piramide       8.0        8.0  \n",
              "ID_Banco      72.0      150.0  \n",
              "Enero     314974.0  4668357.0  \n",
              "Febrero   349622.0  6068864.0  \n",
              "Marzo     349622.0  6982637.0  "
            ],
            "text/html": [
              "\n",
              "  <div id=\"df-715d62f2-7060-4d76-9691-55148442d6c5\" class=\"colab-df-container\">\n",
              "    <div>\n",
              "<style scoped>\n",
              "    .dataframe tbody tr th:only-of-type {\n",
              "        vertical-align: middle;\n",
              "    }\n",
              "\n",
              "    .dataframe tbody tr th {\n",
              "        vertical-align: top;\n",
              "    }\n",
              "\n",
              "    .dataframe thead th {\n",
              "        text-align: right;\n",
              "    }\n",
              "</style>\n",
              "<table border=\"1\" class=\"dataframe\">\n",
              "  <thead>\n",
              "    <tr style=\"text-align: right;\">\n",
              "      <th></th>\n",
              "      <th>count</th>\n",
              "      <th>mean</th>\n",
              "      <th>std</th>\n",
              "      <th>min</th>\n",
              "      <th>25%</th>\n",
              "      <th>50%</th>\n",
              "      <th>75%</th>\n",
              "      <th>max</th>\n",
              "    </tr>\n",
              "  </thead>\n",
              "  <tbody>\n",
              "    <tr>\n",
              "      <th>piramide</th>\n",
              "      <td>2205.0</td>\n",
              "      <td>7.600000</td>\n",
              "      <td>0.993902</td>\n",
              "      <td>0.0</td>\n",
              "      <td>8.0</td>\n",
              "      <td>8.0</td>\n",
              "      <td>8.0</td>\n",
              "      <td>8.0</td>\n",
              "    </tr>\n",
              "    <tr>\n",
              "      <th>ID_Banco</th>\n",
              "      <td>2205.0</td>\n",
              "      <td>54.562812</td>\n",
              "      <td>32.542047</td>\n",
              "      <td>7.0</td>\n",
              "      <td>27.0</td>\n",
              "      <td>72.0</td>\n",
              "      <td>72.0</td>\n",
              "      <td>150.0</td>\n",
              "    </tr>\n",
              "    <tr>\n",
              "      <th>Enero</th>\n",
              "      <td>2205.0</td>\n",
              "      <td>333951.576871</td>\n",
              "      <td>204889.529095</td>\n",
              "      <td>168101.0</td>\n",
              "      <td>262479.0</td>\n",
              "      <td>306225.0</td>\n",
              "      <td>314974.0</td>\n",
              "      <td>4668357.0</td>\n",
              "    </tr>\n",
              "    <tr>\n",
              "      <th>Febrero</th>\n",
              "      <td>2205.0</td>\n",
              "      <td>388366.269841</td>\n",
              "      <td>274046.567680</td>\n",
              "      <td>186592.0</td>\n",
              "      <td>291351.0</td>\n",
              "      <td>339910.0</td>\n",
              "      <td>349622.0</td>\n",
              "      <td>6068864.0</td>\n",
              "    </tr>\n",
              "    <tr>\n",
              "      <th>Marzo</th>\n",
              "      <td>2205.0</td>\n",
              "      <td>411957.604082</td>\n",
              "      <td>338883.543822</td>\n",
              "      <td>186592.0</td>\n",
              "      <td>291351.0</td>\n",
              "      <td>339910.0</td>\n",
              "      <td>349622.0</td>\n",
              "      <td>6982637.0</td>\n",
              "    </tr>\n",
              "  </tbody>\n",
              "</table>\n",
              "</div>\n",
              "    <div class=\"colab-df-buttons\">\n",
              "\n",
              "  <div class=\"colab-df-container\">\n",
              "    <button class=\"colab-df-convert\" onclick=\"convertToInteractive('df-715d62f2-7060-4d76-9691-55148442d6c5')\"\n",
              "            title=\"Convert this dataframe to an interactive table.\"\n",
              "            style=\"display:none;\">\n",
              "\n",
              "  <svg xmlns=\"http://www.w3.org/2000/svg\" height=\"24px\" viewBox=\"0 -960 960 960\">\n",
              "    <path d=\"M120-120v-720h720v720H120Zm60-500h600v-160H180v160Zm220 220h160v-160H400v160Zm0 220h160v-160H400v160ZM180-400h160v-160H180v160Zm440 0h160v-160H620v160ZM180-180h160v-160H180v160Zm440 0h160v-160H620v160Z\"/>\n",
              "  </svg>\n",
              "    </button>\n",
              "\n",
              "  <style>\n",
              "    .colab-df-container {\n",
              "      display:flex;\n",
              "      gap: 12px;\n",
              "    }\n",
              "\n",
              "    .colab-df-convert {\n",
              "      background-color: #E8F0FE;\n",
              "      border: none;\n",
              "      border-radius: 50%;\n",
              "      cursor: pointer;\n",
              "      display: none;\n",
              "      fill: #1967D2;\n",
              "      height: 32px;\n",
              "      padding: 0 0 0 0;\n",
              "      width: 32px;\n",
              "    }\n",
              "\n",
              "    .colab-df-convert:hover {\n",
              "      background-color: #E2EBFA;\n",
              "      box-shadow: 0px 1px 2px rgba(60, 64, 67, 0.3), 0px 1px 3px 1px rgba(60, 64, 67, 0.15);\n",
              "      fill: #174EA6;\n",
              "    }\n",
              "\n",
              "    .colab-df-buttons div {\n",
              "      margin-bottom: 4px;\n",
              "    }\n",
              "\n",
              "    [theme=dark] .colab-df-convert {\n",
              "      background-color: #3B4455;\n",
              "      fill: #D2E3FC;\n",
              "    }\n",
              "\n",
              "    [theme=dark] .colab-df-convert:hover {\n",
              "      background-color: #434B5C;\n",
              "      box-shadow: 0px 1px 3px 1px rgba(0, 0, 0, 0.15);\n",
              "      filter: drop-shadow(0px 1px 2px rgba(0, 0, 0, 0.3));\n",
              "      fill: #FFFFFF;\n",
              "    }\n",
              "  </style>\n",
              "\n",
              "    <script>\n",
              "      const buttonEl =\n",
              "        document.querySelector('#df-715d62f2-7060-4d76-9691-55148442d6c5 button.colab-df-convert');\n",
              "      buttonEl.style.display =\n",
              "        google.colab.kernel.accessAllowed ? 'block' : 'none';\n",
              "\n",
              "      async function convertToInteractive(key) {\n",
              "        const element = document.querySelector('#df-715d62f2-7060-4d76-9691-55148442d6c5');\n",
              "        const dataTable =\n",
              "          await google.colab.kernel.invokeFunction('convertToInteractive',\n",
              "                                                    [key], {});\n",
              "        if (!dataTable) return;\n",
              "\n",
              "        const docLinkHtml = 'Like what you see? Visit the ' +\n",
              "          '<a target=\"_blank\" href=https://colab.research.google.com/notebooks/data_table.ipynb>data table notebook</a>'\n",
              "          + ' to learn more about interactive tables.';\n",
              "        element.innerHTML = '';\n",
              "        dataTable['output_type'] = 'display_data';\n",
              "        await google.colab.output.renderOutput(dataTable, element);\n",
              "        const docLink = document.createElement('div');\n",
              "        docLink.innerHTML = docLinkHtml;\n",
              "        element.appendChild(docLink);\n",
              "      }\n",
              "    </script>\n",
              "  </div>\n",
              "\n",
              "\n",
              "<div id=\"df-0383acbf-c938-4c33-8c89-8c1728e69217\">\n",
              "  <button class=\"colab-df-quickchart\" onclick=\"quickchart('df-0383acbf-c938-4c33-8c89-8c1728e69217')\"\n",
              "            title=\"Suggest charts\"\n",
              "            style=\"display:none;\">\n",
              "\n",
              "<svg xmlns=\"http://www.w3.org/2000/svg\" height=\"24px\"viewBox=\"0 0 24 24\"\n",
              "     width=\"24px\">\n",
              "    <g>\n",
              "        <path d=\"M19 3H5c-1.1 0-2 .9-2 2v14c0 1.1.9 2 2 2h14c1.1 0 2-.9 2-2V5c0-1.1-.9-2-2-2zM9 17H7v-7h2v7zm4 0h-2V7h2v10zm4 0h-2v-4h2v4z\"/>\n",
              "    </g>\n",
              "</svg>\n",
              "  </button>\n",
              "\n",
              "<style>\n",
              "  .colab-df-quickchart {\n",
              "      --bg-color: #E8F0FE;\n",
              "      --fill-color: #1967D2;\n",
              "      --hover-bg-color: #E2EBFA;\n",
              "      --hover-fill-color: #174EA6;\n",
              "      --disabled-fill-color: #AAA;\n",
              "      --disabled-bg-color: #DDD;\n",
              "  }\n",
              "\n",
              "  [theme=dark] .colab-df-quickchart {\n",
              "      --bg-color: #3B4455;\n",
              "      --fill-color: #D2E3FC;\n",
              "      --hover-bg-color: #434B5C;\n",
              "      --hover-fill-color: #FFFFFF;\n",
              "      --disabled-bg-color: #3B4455;\n",
              "      --disabled-fill-color: #666;\n",
              "  }\n",
              "\n",
              "  .colab-df-quickchart {\n",
              "    background-color: var(--bg-color);\n",
              "    border: none;\n",
              "    border-radius: 50%;\n",
              "    cursor: pointer;\n",
              "    display: none;\n",
              "    fill: var(--fill-color);\n",
              "    height: 32px;\n",
              "    padding: 0;\n",
              "    width: 32px;\n",
              "  }\n",
              "\n",
              "  .colab-df-quickchart:hover {\n",
              "    background-color: var(--hover-bg-color);\n",
              "    box-shadow: 0 1px 2px rgba(60, 64, 67, 0.3), 0 1px 3px 1px rgba(60, 64, 67, 0.15);\n",
              "    fill: var(--button-hover-fill-color);\n",
              "  }\n",
              "\n",
              "  .colab-df-quickchart-complete:disabled,\n",
              "  .colab-df-quickchart-complete:disabled:hover {\n",
              "    background-color: var(--disabled-bg-color);\n",
              "    fill: var(--disabled-fill-color);\n",
              "    box-shadow: none;\n",
              "  }\n",
              "\n",
              "  .colab-df-spinner {\n",
              "    border: 2px solid var(--fill-color);\n",
              "    border-color: transparent;\n",
              "    border-bottom-color: var(--fill-color);\n",
              "    animation:\n",
              "      spin 1s steps(1) infinite;\n",
              "  }\n",
              "\n",
              "  @keyframes spin {\n",
              "    0% {\n",
              "      border-color: transparent;\n",
              "      border-bottom-color: var(--fill-color);\n",
              "      border-left-color: var(--fill-color);\n",
              "    }\n",
              "    20% {\n",
              "      border-color: transparent;\n",
              "      border-left-color: var(--fill-color);\n",
              "      border-top-color: var(--fill-color);\n",
              "    }\n",
              "    30% {\n",
              "      border-color: transparent;\n",
              "      border-left-color: var(--fill-color);\n",
              "      border-top-color: var(--fill-color);\n",
              "      border-right-color: var(--fill-color);\n",
              "    }\n",
              "    40% {\n",
              "      border-color: transparent;\n",
              "      border-right-color: var(--fill-color);\n",
              "      border-top-color: var(--fill-color);\n",
              "    }\n",
              "    60% {\n",
              "      border-color: transparent;\n",
              "      border-right-color: var(--fill-color);\n",
              "    }\n",
              "    80% {\n",
              "      border-color: transparent;\n",
              "      border-right-color: var(--fill-color);\n",
              "      border-bottom-color: var(--fill-color);\n",
              "    }\n",
              "    90% {\n",
              "      border-color: transparent;\n",
              "      border-bottom-color: var(--fill-color);\n",
              "    }\n",
              "  }\n",
              "</style>\n",
              "\n",
              "  <script>\n",
              "    async function quickchart(key) {\n",
              "      const quickchartButtonEl =\n",
              "        document.querySelector('#' + key + ' button');\n",
              "      quickchartButtonEl.disabled = true;  // To prevent multiple clicks.\n",
              "      quickchartButtonEl.classList.add('colab-df-spinner');\n",
              "      try {\n",
              "        const charts = await google.colab.kernel.invokeFunction(\n",
              "            'suggestCharts', [key], {});\n",
              "      } catch (error) {\n",
              "        console.error('Error during call to suggestCharts:', error);\n",
              "      }\n",
              "      quickchartButtonEl.classList.remove('colab-df-spinner');\n",
              "      quickchartButtonEl.classList.add('colab-df-quickchart-complete');\n",
              "    }\n",
              "    (() => {\n",
              "      let quickchartButtonEl =\n",
              "        document.querySelector('#df-0383acbf-c938-4c33-8c89-8c1728e69217 button');\n",
              "      quickchartButtonEl.style.display =\n",
              "        google.colab.kernel.accessAllowed ? 'block' : 'none';\n",
              "    })();\n",
              "  </script>\n",
              "</div>\n",
              "\n",
              "    </div>\n",
              "  </div>\n"
            ],
            "application/vnd.google.colaboratory.intrinsic+json": {
              "type": "dataframe",
              "summary": "{\n  \"name\": \"df\",\n  \"rows\": 5,\n  \"fields\": [\n    {\n      \"column\": \"count\",\n      \"properties\": {\n        \"dtype\": \"number\",\n        \"std\": 0.0,\n        \"min\": 2205.0,\n        \"max\": 2205.0,\n        \"num_unique_values\": 1,\n        \"samples\": [\n          2205.0\n        ],\n        \"semantic_type\": \"\",\n        \"description\": \"\"\n      }\n    },\n    {\n      \"column\": \"mean\",\n      \"properties\": {\n        \"dtype\": \"number\",\n        \"std\": 208995.6467922257,\n        \"min\": 7.6,\n        \"max\": 411957.6040816326,\n        \"num_unique_values\": 5,\n        \"samples\": [\n          54.56281179138322\n        ],\n        \"semantic_type\": \"\",\n        \"description\": \"\"\n      }\n    },\n    {\n      \"column\": \"std\",\n      \"properties\": {\n        \"dtype\": \"number\",\n        \"std\": 156641.736173679,\n        \"min\": 0.9939015496421792,\n        \"max\": 338883.5438215981,\n        \"num_unique_values\": 5,\n        \"samples\": [\n          32.54204700546991\n        ],\n        \"semantic_type\": \"\",\n        \"description\": \"\"\n      }\n    },\n    {\n      \"column\": \"min\",\n      \"properties\": {\n        \"dtype\": \"number\",\n        \"std\": 99110.65700165648,\n        \"min\": 0.0,\n        \"max\": 186592.0,\n        \"num_unique_values\": 4,\n        \"samples\": [\n          7.0\n        ],\n        \"semantic_type\": \"\",\n        \"description\": \"\"\n      }\n    },\n    {\n      \"column\": \"25%\",\n      \"properties\": {\n        \"dtype\": \"number\",\n        \"std\": 154748.19813555182,\n        \"min\": 8.0,\n        \"max\": 291351.0,\n        \"num_unique_values\": 4,\n        \"samples\": [\n          27.0\n        ],\n        \"semantic_type\": \"\",\n        \"description\": \"\"\n      }\n    },\n    {\n      \"column\": \"50%\",\n      \"properties\": {\n        \"dtype\": \"number\",\n        \"std\": 180528.9927878622,\n        \"min\": 8.0,\n        \"max\": 339910.0,\n        \"num_unique_values\": 4,\n        \"samples\": [\n          72.0\n        ],\n        \"semantic_type\": \"\",\n        \"description\": \"\"\n      }\n    },\n    {\n      \"column\": \"75%\",\n      \"properties\": {\n        \"dtype\": \"number\",\n        \"std\": 185687.65786341322,\n        \"min\": 8.0,\n        \"max\": 349622.0,\n        \"num_unique_values\": 4,\n        \"samples\": [\n          72.0\n        ],\n        \"semantic_type\": \"\",\n        \"description\": \"\"\n      }\n    },\n    {\n      \"column\": \"max\",\n      \"properties\": {\n        \"dtype\": \"number\",\n        \"std\": 3338491.1793438513,\n        \"min\": 8.0,\n        \"max\": 6982637.0,\n        \"num_unique_values\": 5,\n        \"samples\": [\n          150.0\n        ],\n        \"semantic_type\": \"\",\n        \"description\": \"\"\n      }\n    }\n  ]\n}"
            }
          },
          "metadata": {},
          "execution_count": 126
        }
      ]
    },
    {
      "cell_type": "markdown",
      "source": [
        "# Filtrado de valores absolutos"
      ],
      "metadata": {
        "id": "fSZKlhR8EFOc"
      }
    },
    {
      "cell_type": "code",
      "source": [
        "df = df[(df['Enero'] > 0) & (df['Febrero'] >= 0) & (df['Marzo'] > 0)]"
      ],
      "metadata": {
        "id": "Aqc4YVoiD_yM"
      },
      "execution_count": 125,
      "outputs": []
    },
    {
      "cell_type": "markdown",
      "source": [
        "El dataset esta basado en datos de sueldo por lo cual ningun valor pordria ser negativo."
      ],
      "metadata": {
        "id": "IYo52BdxEHbi"
      }
    },
    {
      "cell_type": "code",
      "source": [
        "import pandas as pd\n",
        "import numpy as np\n",
        "import matplotlib.pyplot as plt\n",
        "import seaborn as sns\n",
        "import warnings\n",
        "from matplotlib.ticker import FormatStrFormatter\n",
        "from seaborn import boxplot, distplot"
      ],
      "metadata": {
        "id": "I1uKZGldKkC1"
      },
      "execution_count": 140,
      "outputs": []
    },
    {
      "cell_type": "code",
      "source": [
        "pd.set_option('display.max_columns', None)\n",
        "pd.set_option(\"display.max_colwidth\", None)\n",
        "warnings.filterwarnings('ignore')\n",
        "sns.set_style('darkgrid')"
      ],
      "metadata": {
        "id": "LBVuEL48K6-E"
      },
      "execution_count": 141,
      "outputs": []
    },
    {
      "cell_type": "markdown",
      "source": [
        "# Analisis de variables numericas\n"
      ],
      "metadata": {
        "id": "nNUbK3vRLjCC"
      }
    },
    {
      "cell_type": "markdown",
      "source": [
        "Planteo de Hipotesis\n"
      ],
      "metadata": {
        "id": "Psd9_Us2wOmH"
      }
    },
    {
      "cell_type": "markdown",
      "source": [
        "Hipótesis Nº1: El poseer un titulo universitario es un factor determinante para tener acceso a puestos jerárquicos, por ende, de mayor ingreso."
      ],
      "metadata": {
        "id": "BknEKcW6wTC3"
      }
    },
    {
      "cell_type": "code",
      "source": [
        "numerical_features = ['Enero', 'Febrero', 'Marzo', 'piramide']\n",
        "for _, feature in enumerate(numerical_features):\n",
        "    fig, axes = plt.subplots(2, 1, figsize=(15, 5), sharex=True)\n",
        "    fig.suptitle(f'Distribución del {feature}')\n",
        "    sns.boxplot(x = df[feature], ax = axes[0])\n",
        "    sns.distplot(x = df[feature], ax = axes[1])\n",
        "    axes[0].grid()\n",
        "    axes[1].grid()\n",
        "    plt.show()"
      ],
      "metadata": {
        "colab": {
          "base_uri": "https://localhost:8080/",
          "height": 1000
        },
        "id": "Sgx-aS3pLNCY",
        "outputId": "16fb534f-c4d0-400a-e9ab-8ec6155b5085"
      },
      "execution_count": 168,
      "outputs": [
        {
          "output_type": "display_data",
          "data": {
            "text/plain": [
              "<Figure size 1500x500 with 2 Axes>"
            ],
            "image/png": "[encoded data removed]"
          },
          "metadata": {}
        },
        {
          "output_type": "display_data",
          "data": {
            "text/plain": [
              "<Figure size 1500x500 with 2 Axes>"
            ],
            "image/png": "[encoded data removed]"
          },
          "metadata": {}
        },
        {
          "output_type": "display_data",
          "data": {
            "text/plain": [
              "<Figure size 1500x500 with 2 Axes>"
            ],
            "image/png": "[encoded data removed]"
          },
          "metadata": {}
        },
        {
          "output_type": "display_data",
          "data": {
            "text/plain": [
              "<Figure size 1500x500 with 2 Axes>"
            ],
            "image/png": "[encoded data removed]"
          },
          "metadata": {}
        }
      ]
    },
    {
      "cell_type": "code",
      "source": [
        "import numpy as np\n",
        "for feature in numerical_features:\n",
        "    quartiles = np.percentile(df[feature], [25, 50, 75])\n",
        "    print(f\"Cuartiles para {feature}:\")\n",
        "    print(f\"Q1: {quartiles[0]}\")\n",
        "    print(f\"Q2 (Mediana): {quartiles[1]}\")\n",
        "    print(f\"Q3: {quartiles[2]}\")\n",
        "    print(\"----\")\n"
      ],
      "metadata": {
        "colab": {
          "base_uri": "https://localhost:8080/"
        },
        "id": "cd3JUZJ-Ah--",
        "outputId": "55729b3f-ba5e-421c-ca50-157f8786c7b2"
      },
      "execution_count": 203,
      "outputs": [
        {
          "output_type": "stream",
          "name": "stdout",
          "text": [
            "Cuartiles para Enero:\n",
            "Q1: 262479.0\n",
            "Q2 (Mediana): 306225.0\n",
            "Q3: 314974.0\n",
            "----\n",
            "Cuartiles para Febrero:\n",
            "Q1: 291351.0\n",
            "Q2 (Mediana): 339910.0\n",
            "Q3: 349622.0\n",
            "----\n",
            "Cuartiles para Marzo:\n",
            "Q1: 291351.0\n",
            "Q2 (Mediana): 339910.0\n",
            "Q3: 349622.0\n",
            "----\n",
            "Cuartiles para piramide:\n",
            "Q1: 8.0\n",
            "Q2 (Mediana): 8.0\n",
            "Q3: 8.0\n",
            "----\n"
          ]
        }
      ]
    },
    {
      "cell_type": "code",
      "source": [
        "labels = ['SI', 'NO']\n",
        "sizes = [126, 2079]\n",
        "plt.pie(sizes, labels=labels, autopct='%1.1f%%', startangle=140)\n",
        "plt.title('Proporcion de personal con titulo')\n",
        "plt.show()\n"
      ],
      "metadata": {
        "colab": {
          "base_uri": "https://localhost:8080/",
          "height": 428
        },
        "id": "1rk3ArUho38P",
        "outputId": "2c9e2ddc-1045-4ec4-ed9d-a4ba403f731e"
      },
      "execution_count": 163,
      "outputs": [
        {
          "output_type": "display_data",
          "data": {
            "text/plain": [
              "<Figure size 640x480 with 1 Axes>"
            ],
            "image/png": "[encoded data removed]"
          },
          "metadata": {}
        }
      ]
    },
    {
      "cell_type": "markdown",
      "source": [
        "Como puede visualizarse en los graficos, se comprueba la hipotesis nº1, debido a que los mayores ingresos estan concetrados en la parte superior de la piradmide organizativa, al igual que el tipo de jerarquia de los puestos, en esos casos lo que caracteriza a la poblacion es que poseen titulo universitario."
      ],
      "metadata": {
        "id": "gz7_SYGrwasK"
      }
    },
    {
      "cell_type": "markdown",
      "source": [
        "Hipótesis Nº2: La ubicación geográfica del empleado influye en la obtención de un título universitario."
      ],
      "metadata": {
        "id": "QdCxcQbQxElU"
      }
    },
    {
      "cell_type": "code",
      "source": [
        "import matplotlib.pyplot as plt\n",
        "import numpy as np\n",
        "provincias = df['provincia'].unique()\n",
        "promedios = {}\n",
        "for provincia in provincias:\n",
        "    promedios[provincia] = df[df['provincia'] == provincia][['Enero', 'Febrero', 'Marzo']].mean()\n",
        "categorias = list(promedios[provincias[0]].index)\n",
        "valores = [[promedios[provincia][categoria] for categoria in categorias] for provincia in provincias]\n",
        "N = len(categorias)\n",
        "angulos = [n / float(N) * 2 * np.pi for n in range(N)]\n",
        "angulos += angulos[:1]\n",
        "\n",
        "fig, ax = plt.subplots(figsize=(6, 6), subplot_kw=dict(polar=True))\n",
        "ax.set_theta_offset(np.pi / 2)\n",
        "ax.set_theta_direction(-1)\n",
        "\n",
        "for i, provincia in enumerate(provincias):\n",
        "    valores_provincia = valores[i]\n",
        "    valores_provincia += valores_provincia[:1]\n",
        "    ax.plot(angulos, valores_provincia, linewidth=1, linestyle='solid', label=provincia)\n",
        "    ax.fill(angulos, valores_provincia, alpha=0.25)\n",
        "\n",
        "ax.set_xticks(angulos[:-1])\n",
        "ax.set_xticklabels(categorias)\n",
        "ax.set_title('Comparación de Promedios por Provincia')\n",
        "ax.legend(loc='upper right', bbox_to_anchor=(0.1, 0.1))\n",
        "plt.show()\n"
      ],
      "metadata": {
        "colab": {
          "base_uri": "https://localhost:8080/",
          "height": 576
        },
        "id": "viWvvQx0xN-3",
        "outputId": "feca05fc-fbd0-4bdc-bccd-4cfe776ffd4e"
      },
      "execution_count": 175,
      "outputs": [
        {
          "output_type": "display_data",
          "data": {
            "text/plain": [
              "<Figure size 600x600 with 1 Axes>"
            ],
            "image/png": "[encoded data removed]"
          },
          "metadata": {}
        }
      ]
    },
    {
      "cell_type": "code",
      "source": [
        "labels = ['FORM', 'CBA','CABA2']\n",
        "sizes = [242,1620, 343]\n",
        "plt.pie(sizes, labels=labels, autopct='%1.1f%%', startangle=140)\n",
        "plt.title('Distribucion de empleados por provincia')\n",
        "plt.show()\n"
      ],
      "metadata": {
        "colab": {
          "base_uri": "https://localhost:8080/",
          "height": 428
        },
        "id": "OBY6Tkk70t2N",
        "outputId": "723821c0-02e2-47bb-9695-dd5680ff4f79"
      },
      "execution_count": 185,
      "outputs": [
        {
          "output_type": "display_data",
          "data": {
            "text/plain": [
              "<Figure size 640x480 with 1 Axes>"
            ],
            "image/png": "[encoded data removed]"
          },
          "metadata": {}
        }
      ]
    },
    {
      "cell_type": "markdown",
      "source": [
        "La poblacion que posee una cantidad superior de Titulos universitarios, se encuentran en la provincia de Cordoba. La Universidad Nacional de Córdoba es una universidad pública de Argentina. Tiene sede en la ciudad de Córdoba. Fundada el 19 de junio de 1613, es la más antigua del país y una de las primeras de América. Su enseñanza es libre, gratuita y laica. Por tal  motivo, puede inferirse, que la hipotesis se cumpliria."
      ],
      "metadata": {
        "id": "pcVaPJG469ug"
      }
    },
    {
      "cell_type": "markdown",
      "source": [
        "Hipótesis Nº3: La población  de sexo femenino que posee título universitario es mayor, que la población de sexo masculino,"
      ],
      "metadata": {
        "id": "CkMYdBoZ7f6K"
      }
    },
    {
      "cell_type": "code",
      "source": [
        "labels = ['Feminino sin titulo', 'Femenino con titulo','Masculino sin titulo','Masculino con titulo']\n",
        "sizes = [1498,66,581,60]\n",
        "plt.pie(sizes, labels=labels, autopct='%1.1f%%', startangle=140)\n",
        "plt.title('Distribucion titulos universitarios por genero del personal')\n",
        "plt.show()\n"
      ],
      "metadata": {
        "colab": {
          "base_uri": "https://localhost:8080/",
          "height": 428
        },
        "id": "k86ozkyzFU4H",
        "outputId": "f8e1132b-eb13-47ec-9e5b-364c2015f522"
      },
      "execution_count": 204,
      "outputs": [
        {
          "output_type": "display_data",
          "data": {
            "text/plain": [
              "<Figure size 640x480 with 1 Axes>"
            ],
            "image/png": "[encoded data removed]"
          },
          "metadata": {}
        }
      ]
    },
    {
      "cell_type": "markdown",
      "source": [
        "Del total de poblacion de 2205 empleados, siendo 1564 de sexo femenino, 641 de sexo masculino. De los cuales en el caso del pesonal femenino, 1498 no poseen titulo universitario, mientras que 66 de ellas, si lo posee. Para el caso de la poblacion masculina, 581 son los que no poseen titulo universitario, mientras que 60 son lo que si lo poseen."
      ],
      "metadata": {
        "id": "A5lKeThn_S-4"
      }
    },
    {
      "cell_type": "code",
      "source": [],
      "metadata": {
        "id": "B1J809IYAEzy"
      },
      "execution_count": null,
      "outputs": []
    }
  ]
}